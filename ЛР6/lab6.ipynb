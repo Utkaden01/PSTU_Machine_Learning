{
 "cells": [
  {
   "cell_type": "code",
   "execution_count": 1,
   "id": "482d23c4-2129-4150-8de7-b850a6ba9f6b",
   "metadata": {},
   "outputs": [
    {
     "name": "stdout",
     "output_type": "stream",
     "text": [
      "File already exists.\n"
     ]
    }
   ],
   "source": [
    "import os\n",
    "import urllib.request\n",
    "\n",
    "\n",
    "def download_file(file_link, filename):\n",
    "    # Checks if the file already exists before downloading\n",
    "    if not os.path.isfile(filename):\n",
    "        urllib.request.urlretrieve(file_link, filename)\n",
    "        print(\"File downloaded successfully.\")\n",
    "    else:\n",
    "        print(\"File already exists.\")\n",
    "\n",
    "# Dowloading GGML model from HuggingFace\n",
    "ggml_model_path = \"https://huggingface.co/TheBloke/zephyr-7B-beta-GGUF/resolve/main/zephyr-7b-beta.Q4_0.gguf\"\n",
    "filename = \"zephyr-7b-beta.Q4_0.gguf\"\n",
    "\n",
    "download_file(ggml_model_path, filename)\n"
   ]
  },
  {
   "cell_type": "code",
   "execution_count": 2,
   "id": "da41ba77-8d46-4ecf-92d4-61bff6082e0b",
   "metadata": {},
   "outputs": [
    {
     "name": "stderr",
     "output_type": "stream",
     "text": [
      "llama_model_loader: loaded meta data with 21 key-value pairs and 291 tensors from zephyr-7b-beta.Q4_0.gguf (version GGUF V3 (latest))\n",
      "llama_model_loader: Dumping metadata keys/values. Note: KV overrides do not apply in this output.\n",
      "llama_model_loader: - kv   0:                       general.architecture str              = llama\n",
      "llama_model_loader: - kv   1:                               general.name str              = huggingfaceh4_zephyr-7b-beta\n",
      "llama_model_loader: - kv   2:                       llama.context_length u32              = 32768\n",
      "llama_model_loader: - kv   3:                     llama.embedding_length u32              = 4096\n",
      "llama_model_loader: - kv   4:                          llama.block_count u32              = 32\n",
      "llama_model_loader: - kv   5:                  llama.feed_forward_length u32              = 14336\n",
      "llama_model_loader: - kv   6:                 llama.rope.dimension_count u32              = 128\n",
      "llama_model_loader: - kv   7:                 llama.attention.head_count u32              = 32\n",
      "llama_model_loader: - kv   8:              llama.attention.head_count_kv u32              = 8\n",
      "llama_model_loader: - kv   9:     llama.attention.layer_norm_rms_epsilon f32              = 0.000010\n",
      "llama_model_loader: - kv  10:                       llama.rope.freq_base f32              = 10000.000000\n",
      "llama_model_loader: - kv  11:                          general.file_type u32              = 2\n",
      "llama_model_loader: - kv  12:                       tokenizer.ggml.model str              = llama\n",
      "llama_model_loader: - kv  13:                      tokenizer.ggml.tokens arr[str,32000]   = [\"<unk>\", \"<s>\", \"</s>\", \"<0x00>\", \"<...\n",
      "llama_model_loader: - kv  14:                      tokenizer.ggml.scores arr[f32,32000]   = [0.000000, 0.000000, 0.000000, 0.0000...\n",
      "llama_model_loader: - kv  15:                  tokenizer.ggml.token_type arr[i32,32000]   = [2, 3, 3, 6, 6, 6, 6, 6, 6, 6, 6, 6, ...\n",
      "llama_model_loader: - kv  16:                tokenizer.ggml.bos_token_id u32              = 1\n",
      "llama_model_loader: - kv  17:                tokenizer.ggml.eos_token_id u32              = 2\n",
      "llama_model_loader: - kv  18:            tokenizer.ggml.unknown_token_id u32              = 0\n",
      "llama_model_loader: - kv  19:            tokenizer.ggml.padding_token_id u32              = 2\n",
      "llama_model_loader: - kv  20:               general.quantization_version u32              = 2\n",
      "llama_model_loader: - type  f32:   65 tensors\n",
      "llama_model_loader: - type q4_0:  225 tensors\n",
      "llama_model_loader: - type q6_K:    1 tensors\n",
      "llm_load_vocab: special tokens definition check successful ( 259/32000 ).\n",
      "llm_load_print_meta: format           = GGUF V3 (latest)\n",
      "llm_load_print_meta: arch             = llama\n",
      "llm_load_print_meta: vocab type       = SPM\n",
      "llm_load_print_meta: n_vocab          = 32000\n",
      "llm_load_print_meta: n_merges         = 0\n",
      "llm_load_print_meta: n_ctx_train      = 32768\n",
      "llm_load_print_meta: n_embd           = 4096\n",
      "llm_load_print_meta: n_head           = 32\n",
      "llm_load_print_meta: n_head_kv        = 8\n",
      "llm_load_print_meta: n_layer          = 32\n",
      "llm_load_print_meta: n_rot            = 128\n",
      "llm_load_print_meta: n_embd_head_k    = 128\n",
      "llm_load_print_meta: n_embd_head_v    = 128\n",
      "llm_load_print_meta: n_gqa            = 4\n",
      "llm_load_print_meta: n_embd_k_gqa     = 1024\n",
      "llm_load_print_meta: n_embd_v_gqa     = 1024\n",
      "llm_load_print_meta: f_norm_eps       = 0.0e+00\n",
      "llm_load_print_meta: f_norm_rms_eps   = 1.0e-05\n",
      "llm_load_print_meta: f_clamp_kqv      = 0.0e+00\n",
      "llm_load_print_meta: f_max_alibi_bias = 0.0e+00\n",
      "llm_load_print_meta: f_logit_scale    = 0.0e+00\n",
      "llm_load_print_meta: n_ff             = 14336\n",
      "llm_load_print_meta: n_expert         = 0\n",
      "llm_load_print_meta: n_expert_used    = 0\n",
      "llm_load_print_meta: causal attn      = 1\n",
      "llm_load_print_meta: pooling type     = 0\n",
      "llm_load_print_meta: rope type        = 0\n",
      "llm_load_print_meta: rope scaling     = linear\n",
      "llm_load_print_meta: freq_base_train  = 10000.0\n",
      "llm_load_print_meta: freq_scale_train = 1\n",
      "llm_load_print_meta: n_yarn_orig_ctx  = 32768\n",
      "llm_load_print_meta: rope_finetuned   = unknown\n",
      "llm_load_print_meta: ssm_d_conv       = 0\n",
      "llm_load_print_meta: ssm_d_inner      = 0\n",
      "llm_load_print_meta: ssm_d_state      = 0\n",
      "llm_load_print_meta: ssm_dt_rank      = 0\n",
      "llm_load_print_meta: model type       = 7B\n",
      "llm_load_print_meta: model ftype      = Q4_0\n",
      "llm_load_print_meta: model params     = 7.24 B\n",
      "llm_load_print_meta: model size       = 3.83 GiB (4.54 BPW) \n",
      "llm_load_print_meta: general.name     = huggingfaceh4_zephyr-7b-beta\n",
      "llm_load_print_meta: BOS token        = 1 '<s>'\n",
      "llm_load_print_meta: EOS token        = 2 '</s>'\n",
      "llm_load_print_meta: UNK token        = 0 '<unk>'\n",
      "llm_load_print_meta: PAD token        = 2 '</s>'\n",
      "llm_load_print_meta: LF token         = 13 '<0x0A>'\n",
      "llm_load_tensors: ggml ctx size =    0.15 MiB\n",
      "llm_load_tensors:        CPU buffer size =  3917.87 MiB\n",
      "..................................................................................................\n",
      "llama_new_context_with_model: n_ctx      = 2048\n",
      "llama_new_context_with_model: n_batch    = 2048\n",
      "llama_new_context_with_model: n_ubatch   = 512\n",
      "llama_new_context_with_model: flash_attn = 0\n",
      "llama_new_context_with_model: freq_base  = 10000.0\n",
      "llama_new_context_with_model: freq_scale = 1\n",
      "llama_kv_cache_init:        CPU KV buffer size =   256.00 MiB\n",
      "llama_new_context_with_model: KV self size  =  256.00 MiB, K (f16):  128.00 MiB, V (f16):  128.00 MiB\n",
      "llama_new_context_with_model:        CPU  output buffer size =     0.12 MiB\n",
      "llama_new_context_with_model:        CPU compute buffer size =   164.01 MiB\n",
      "llama_new_context_with_model: graph nodes  = 1030\n",
      "llama_new_context_with_model: graph splits = 1\n",
      "AVX = 1 | AVX_VNNI = 0 | AVX2 = 1 | AVX512 = 0 | AVX512_VBMI = 0 | AVX512_VNNI = 0 | FMA = 1 | NEON = 0 | ARM_FMA = 0 | F16C = 1 | FP16_VA = 0 | WASM_SIMD = 0 | BLAS = 0 | SSE3 = 1 | SSSE3 = 0 | VSX = 0 | MATMUL_INT8 = 0 | LLAMAFILE = 1 | \n",
      "Model metadata: {'general.name': 'huggingfaceh4_zephyr-7b-beta', 'general.architecture': 'llama', 'llama.context_length': '32768', 'llama.rope.dimension_count': '128', 'llama.embedding_length': '4096', 'llama.block_count': '32', 'llama.feed_forward_length': '14336', 'llama.attention.head_count': '32', 'tokenizer.ggml.eos_token_id': '2', 'general.file_type': '2', 'llama.attention.head_count_kv': '8', 'llama.attention.layer_norm_rms_epsilon': '0.000010', 'llama.rope.freq_base': '10000.000000', 'tokenizer.ggml.model': 'llama', 'general.quantization_version': '2', 'tokenizer.ggml.bos_token_id': '1', 'tokenizer.ggml.unknown_token_id': '0', 'tokenizer.ggml.padding_token_id': '2'}\n",
      "Using fallback chat format: llama-2\n"
     ]
    }
   ],
   "source": [
    "from llama_cpp import Llama\n",
    "\n",
    "llm = Llama(model_path=\"zephyr-7b-beta.Q4_0.gguf\", n_ctx=2048, n_batch=6856)\n"
   ]
  },
  {
   "cell_type": "code",
   "execution_count": 3,
   "id": "96109b63-7045-4cb6-afa5-c005e328c361",
   "metadata": {},
   "outputs": [],
   "source": [
    "def generate_text(\n",
    "    prompt=\"Who is the CEO of Apple?\",\n",
    "    max_tokens=256,\n",
    "    temperature=0.1,\n",
    "    top_p=0.5,\n",
    "    echo=False,\n",
    "    stop=[\"#\"],\n",
    "):\n",
    "    output = llm(\n",
    "        prompt,\n",
    "        max_tokens=max_tokens,\n",
    "        temperature=temperature,\n",
    "        top_p=top_p,\n",
    "        echo=echo,\n",
    "        stop=stop,\n",
    "    )\n",
    "    output_text = output[\"choices\"][0][\"text\"].strip()\n",
    "    return output_text\n",
    "\n",
    "\n",
    "def generate_prompt_from_template(input):\n",
    "    chat_prompt_template = f\"\"\"<|im_start|>system\n",
    "You are a helpful chatbot.<|im_end|>\n",
    "<|im_start|>user\n",
    "{input}<|im_end|>\"\"\"\n",
    "    return chat_prompt_template\n",
    "\n",
    "\n",
    "def make_answer(text):\n",
    "    prompt = generate_prompt_from_template(text)\n",
    "    result = generate_text(prompt, max_tokens = 5120)\n",
    "    print(result)\n",
    "\n"
   ]
  },
  {
   "cell_type": "code",
   "execution_count": 4,
   "id": "889bfecd-479a-43ea-ac53-86724ed7bdde",
   "metadata": {},
   "outputs": [
    {
     "name": "stderr",
     "output_type": "stream",
     "text": [
      "\n",
      "llama_print_timings:        load time =  295166.88 ms\n",
      "llama_print_timings:      sample time =      90.18 ms /   243 runs   (    0.37 ms per token,  2694.61 tokens per second)\n",
      "llama_print_timings: prompt eval time =  295165.30 ms /  1470 tokens (  200.79 ms per token,     4.98 tokens per second)\n",
      "llama_print_timings:        eval time =  121059.73 ms /   242 runs   (  500.25 ms per token,     2.00 tokens per second)\n",
      "llama_print_timings:       total time =  417258.35 ms /  1712 tokens\n"
     ]
    },
    {
     "name": "stdout",
     "output_type": "stream",
     "text": [
      "For children, here's a simplified version:\n",
      "In AI research, using more computation is usually better than relying on human knowledge. This is because the amount of computation available keeps getting cheaper over time. Researchers often try to use human knowledge at first, but in the long run, using more computation is much more effective. This can be seen in games like chess and Go, where methods that rely on lots of search and learning have beaten world champions. In speech recognition and computer vision, early methods tried to mimic how humans see or hear things, but now deep learning neural networks are used instead because they use less human knowledge and perform better. This is a lesson we still need to learn in AI research, because sometimes researchers try to build in what they think they know, but this can hold back progress in the long run. Instead, we should focus on using methods that can find and capture complexity, rather than trying to understand everything about the world. These methods can find good approximations, but the search for them should be done by our methods, not by us. We want AI agents that can discover things like humans do, not ones that already know what we know.\n"
     ]
    }
   ],
   "source": [
    "query = '''\n",
    "Перескажи для ребёнка содержание на английском языке\n",
    "The biggest lesson that can be read from 70 years of AI research is that general methods that leverage computation are ultimately the most effective, and by a large margin. The ultimate reason for this is Moore's law, or rather its generalization of continued exponentially falling cost per unit of computation. Most AI research has been conducted as if the computation available to the agent were constant (in which case leveraging human knowledge would be one of the only ways to improve performance) but, over a slightly longer time than a typical research project, massively more computation inevitably becomes available. Seeking an improvement that makes a difference in the shorter term, researchers seek to leverage their human knowledge of the domain, but the only thing that matters in the long run is the leveraging of computation. These two need not run counter to each other, but in practice they tend to. Time spent on one is time not spent on the other. There are psychological commitments to investment in one approach or the other. And the human-knowledge approach tends to complicate methods in ways that make them less suited to taking advantage of general methods leveraging computation.  There were many examples of AI researchers' belated learning of this bitter lesson, and it is instructive to review some of the most prominent.\n",
    "In computer chess, the methods that defeated the world champion, Kasparov, in 1997, were based on massive, deep search. At the time, this was looked upon with dismay by the majority of computer-chess researchers who had pursued methods that leveraged human understanding of the special structure of chess. When a simpler, search-based approach with special hardware and software proved vastly more effective, these human-knowledge-based chess researchers were not good losers. They said that ``brute force\" search may have won this time, but it was not a general strategy, and anyway it was not how people played chess. These researchers wanted methods based on human input to win and were disappointed when they did not.\n",
    "A similar pattern of research progress was seen in computer Go, only delayed by a further 20 years. Enormous initial efforts went into avoiding search by taking advantage of human knowledge, or of the special features of the game, but all those efforts proved irrelevant, or worse, once search was applied effectively at scale. Also important was the use of learning by self play to learn a value function (as it was in many other games and even in chess, although learning did not play a big role in the 1997 program that first beat a world champion). Learning by self play, and learning in general, is like search in that it enables massive computation to be brought to bear. Search and learning are the two most important classes of techniques for utilizing massive amounts of computation in AI research. In computer Go, as in computer chess, researchers' initial effort was directed towards utilizing human understanding (so that less search was needed) and only much later was much greater success had by embracing search and learning.\n",
    "In speech recognition, there was an early competition, sponsored by DARPA, in the 1970s. Entrants included a host of special methods that took advantage of human knowledge---knowledge of words, of phonemes, of the human vocal tract, etc. On the other side were newer methods that were more statistical in nature and did much more computation, based on hidden Markov models (HMMs). Again, the statistical methods won out over the human-knowledge-based methods. This led to a major change in all of natural language processing, gradually over decades, where statistics and computation came to dominate the field. The recent rise of deep learning in speech recognition is the most recent step in this consistent direction. Deep learning methods rely even less on human knowledge, and use even more computation, together with learning on huge training sets, to produce dramatically better speech recognition systems. As in the games, researchers always tried to make systems that worked the way the researchers thought their own minds worked---they tried to put that knowledge in their systems---but it proved ultimately counterproductive, and a colossal waste of researcher's time, when, through Moore's law, massive computation became available and a means was found to put it to good use.\n",
    "In computer vision, there has been a similar pattern. Early methods conceived of vision as searching for edges, or generalized cylinders, or in terms of SIFT features. But today all this is discarded. Modern deep-learning neural networks use only the notions of convolution and certain kinds of invariances, and perform much better.\n",
    "This is a big lesson. As a field, we still have not thoroughly learned it, as we are continuing to make the same kind of mistakes. To see this, and to effectively resist it, we have to understand the appeal of these mistakes. We have to learn the bitter lesson that building in how we think we think does not work in the long run. The bitter lesson is based on the historical observations that 1) AI researchers have often tried to build knowledge into their agents, 2) this always helps in the short term, and is personally satisfying to the researcher, but 3) in the long run it plateaus and even inhibits further progress, and 4) breakthrough progress eventually arrives by an opposing approach based on scaling computation by search and learning. The eventual success is tinged with bitterness, and often incompletely digested, because it is success over a favored, human-centric approach.\n",
    "One thing that should be learned from the bitter lesson is the great power of general purpose methods, of methods that continue to scale with increased computation even as the available computation becomes very great. The two methods that seem to scale arbitrarily in this way are search and learning.\n",
    "The second general point to be learned from the bitter lesson is that the actual contents of minds are tremendously, irredeemably complex; we should stop trying to find simple ways to think about the contents of minds, such as simple ways to think about space, objects, multiple agents, or symmetries. All these are part of the arbitrary, intrinsically-complex, outside world. They are not what should be built in, as their complexity is endless; instead we should build in only the meta-methods that can find and capture this arbitrary complexity. Essential to these methods is that they can find good approximations, but the search for them should be by our methods, not by us. We want AI agents that can discover like we can, not which contain what we have discovered. Building in our discoveries only makes it harder to see how the discovering process can be done.\n",
    "'''\n",
    "make_answer(query)"
   ]
  },
  {
   "cell_type": "code",
   "execution_count": 5,
   "id": "4c51a6bc-6664-49cb-8485-7fcca1596238",
   "metadata": {},
   "outputs": [
    {
     "name": "stderr",
     "output_type": "stream",
     "text": [
      "Llama.generate: prefix-match hit\n",
      "\n",
      "llama_print_timings:        load time =  295166.88 ms\n",
      "llama_print_timings:      sample time =     238.66 ms /   594 runs   (    0.40 ms per token,  2488.89 tokens per second)\n",
      "llama_print_timings: prompt eval time =  310282.16 ms /  1420 tokens (  218.51 ms per token,     4.58 tokens per second)\n",
      "llama_print_timings:        eval time =  308195.30 ms /   593 runs   (  519.72 ms per token,     1.92 tokens per second)\n",
      "llama_print_timings:       total time =  621400.20 ms /  2013 tokens\n"
     ]
    },
    {
     "name": "stdout",
     "output_type": "stream",
     "text": [
      "В качестве помощи чатбота, могу предоставить вам перевод этого текста на русский язык:\n",
      "\n",
      "70 лет исследований в области искуственного интеллекта позволяют прочитать самую большую лекцию. Методы, основанные на компьютере и вовлечающие больше вычислений, оказываются гораздо более эффективными и в три раза превосходят методы, основанные на использовании человеческого знания. Эта причина заключается в том, что стоимость вычислений постоянно падает согласно закону Мурра, или лучше - его продолжению. Большинство исследований в области искуственного интеллекта велись как будто количество доступных вычислений для агента неизменно (в котором случае использование человеческого знания было бы единственным способом улучшить результаты), но, на протяжении несколько длительнее обычной исследовательской программы, становится доступной огромная масса вычислений. Исследователи ищут методы, основанные на использовании человеческого знания, поскольку результаты будут иметь значение в более короткий срок, но только то, что действительно имеет значение в долгосрочной перспективе - это использование вычислений. Эти два подхода не должны конфликтовать друг с другом, но часто они делают это. Время, потраченное на один подход, является временем, потраченным на другой. Существуют психологические предубеждения в пользу одного из этих подходов или другого. И методы, основанные на использовании человеческого знания, часто осложняются способами, которые делают их менее пригодными для использования методов, основанных на масштабировании вычислений.\n",
      "\n",
      "В шахматах, методы, победившие мирового чемпиона по шахматам Каспарова в 1997 году, были основаны на массовом и глубоком поиске. Эти результаты были восприняты большинством исследователей компьютерных шахмат неохотно, по\n"
     ]
    }
   ],
   "source": [
    "query = '''\n",
    "TRANSLATE INTO RUSSIAN: \n",
    "The biggest lesson that can be read from 70 years of AI research is that general methods that leverage computation are ultimately the most effective, and by a large margin. The ultimate reason for this is Moore's law, or rather its generalization of continued exponentially falling cost per unit of computation. Most AI research has been conducted as if the computation available to the agent were constant (in which case leveraging human knowledge would be one of the only ways to improve performance) but, over a slightly longer time than a typical research project, massively more computation inevitably becomes available. Seeking an improvement that makes a difference in the shorter term, researchers seek to leverage their human knowledge of the domain, but the only thing that matters in the long run is the leveraging of computation. These two need not run counter to each other, but in practice they tend to. Time spent on one is time not spent on the other. There are psychological commitments to investment in one approach or the other. And the human-knowledge approach tends to complicate methods in ways that make them less suited to taking advantage of general methods leveraging computation.  There were many examples of AI researchers' belated learning of this bitter lesson, and it is instructive to review some of the most prominent.\n",
    "In computer chess, the methods that defeated the world champion, Kasparov, in 1997, were based on massive, deep search. At the time, this was looked upon with dismay by the majority of computer-chess researchers who had pursued methods that leveraged human understanding of the special structure of chess. When a simpler, search-based approach with special hardware and software proved vastly more effective, these human-knowledge-based chess researchers were not good losers. They said that ``brute force\" search may have won this time, but it was not a general strategy, and anyway it was not how people played chess. These researchers wanted methods based on human input to win and were disappointed when they did not.\n",
    "A similar pattern of research progress was seen in computer Go, only delayed by a further 20 years. Enormous initial efforts went into avoiding search by taking advantage of human knowledge, or of the special features of the game, but all those efforts proved irrelevant, or worse, once search was applied effectively at scale. Also important was the use of learning by self play to learn a value function (as it was in many other games and even in chess, although learning did not play a big role in the 1997 program that first beat a world champion). Learning by self play, and learning in general, is like search in that it enables massive computation to be brought to bear. Search and learning are the two most important classes of techniques for utilizing massive amounts of computation in AI research. In computer Go, as in computer chess, researchers' initial effort was directed towards utilizing human understanding (so that less search was needed) and only much later was much greater success had by embracing search and learning.\n",
    "In speech recognition, there was an early competition, sponsored by DARPA, in the 1970s. Entrants included a host of special methods that took advantage of human knowledge---knowledge of words, of phonemes, of the human vocal tract, etc. On the other side were newer methods that were more statistical in nature and did much more computation, based on hidden Markov models (HMMs). Again, the statistical methods won out over the human-knowledge-based methods. This led to a major change in all of natural language processing, gradually over decades, where statistics and computation came to dominate the field. The recent rise of deep learning in speech recognition is the most recent step in this consistent direction. Deep learning methods rely even less on human knowledge, and use even more computation, together with learning on huge training sets, to produce dramatically better speech recognition systems. As in the games, researchers always tried to make systems that worked the way the researchers thought their own minds worked---they tried to put that knowledge in their systems---but it proved ultimately counterproductive, and a colossal waste of researcher's time, when, through Moore's law, massive computation became available and a means was found to put it to good use.\n",
    "In computer vision, there has been a similar pattern. Early methods conceived of vision as searching for edges, or generalized cylinders, or in terms of SIFT features. But today all this is discarded. Modern deep-learning neural networks use only the notions of convolution and certain kinds of invariances, and perform much better.\n",
    "This is a big lesson. As a field, we still have not thoroughly learned it, as we are continuing to make the same kind of mistakes. To see this, and to effectively resist it, we have to understand the appeal of these mistakes. We have to learn the bitter lesson that building in how we think we think does not work in the long run. The bitter lesson is based on the historical observations that 1) AI researchers have often tried to build knowledge into their agents, 2) this always helps in the short term, and is personally satisfying to the researcher, but 3) in the long run it plateaus and even inhibits further progress, and 4) breakthrough progress eventually arrives by an opposing approach based on scaling computation by search and learning. The eventual success is tinged with bitterness, and often incompletely digested, because it is success over a favored, human-centric approach.\n",
    "One thing that should be learned from the bitter lesson is the great power of general purpose methods, of methods that continue to scale with increased computation even as the available computation becomes very great. The two methods that seem to scale arbitrarily in this way are search and learning.\n",
    "The second general point to be learned from the bitter lesson is that the actual contents of minds are tremendously, irredeemably complex; we should stop trying to find simple ways to think about the contents of minds, such as simple ways to think about space, objects, multiple agents, or symmetries. All these are part of the arbitrary, intrinsically-complex, outside world. They are not what should be built in, as their complexity is endless; instead we should build in only the meta-methods that can find and capture this arbitrary complexity. Essential to these methods is that they can find good approximations, but the search for them should be by our methods, not by us. We want AI agents that can discover like we can, not which contain what we have discovered. Building in our discoveries only makes it harder to see how the discovering process can be done.\n",
    "'''\n",
    "make_answer(query)"
   ]
  },
  {
   "cell_type": "code",
   "execution_count": 6,
   "id": "915f776d-5478-4c3e-957d-7a33eb2f80f4",
   "metadata": {},
   "outputs": [],
   "source": [
    "# перевод не идеальный, но понять можно\n",
    "#далее будет делаться пересказ статьи \"ФОРМАЛЬНАЯ МОДЕЛЬ ИНФОРМАЦИОННО\u0002АНАЛИТИЧЕСКОЙ СИСТЕМЫ ФИНАНСОВОГО УЧЕТА НА ПРИМЕРЕ МАШИНОСТРОИТЕЛЬНОГО ПРЕДПРИЯТИЯ\""
   ]
  },
  {
   "cell_type": "code",
   "execution_count": 7,
   "id": "eaa268a4-5a68-478d-b114-0f2e34c246b6",
   "metadata": {},
   "outputs": [
    {
     "name": "stderr",
     "output_type": "stream",
     "text": [
      "Llama.generate: prefix-match hit\n",
      "\n",
      "llama_print_timings:        load time =  295166.88 ms\n",
      "llama_print_timings:      sample time =      70.10 ms /   195 runs   (    0.36 ms per token,  2781.58 tokens per second)\n",
      "llama_print_timings: prompt eval time =  408869.25 ms /  1819 tokens (  224.78 ms per token,     4.45 tokens per second)\n",
      "llama_print_timings:        eval time =   96094.11 ms /   194 runs   (  495.33 ms per token,     2.02 tokens per second)\n",
      "llama_print_timings:       total time =  505788.56 ms /  2013 tokens\n"
     ]
    },
    {
     "name": "stdout",
     "output_type": "stream",
     "text": [
      "The article emphasizes that the main indicator in managing any organization is economic efficiency, and proper financial and economic planning with the help of information technologies is one of the important steps towards successful development. The active introduction of information systems has primarily affected industrial enterprises with long-term orders. Effective management of production capacities, cost control, minimization of errors, accurate accounting, and operational planning are all achieved through implemented automated information systems. However, standard information systems, even after customization in large companies, do not fully cover all aspects of operational analytical accounting on the enterprise [14]. The need for systems that can solve narrow tasks is becoming increasingly apparent: integration of business processes with planning, collection, processing, and correction of large volumes of heterogeneous data, analysis, and forecasting. This approach increases production efficiency by improving the functioning of automated information systems. To fully understand and reveal problems in forming an informational analytical accounting system for finance, let'\n"
     ]
    }
   ],
   "source": [
    "query = '''\n",
    "Сделай пересказ статьи:\n",
    "Основным показателем в управлении любым предприятием явля\u0002ется эффективность, и в первую очередь это должна быть экономиче\u0002ская эффективность. Верное и строгое финансово-экономическое пла\u0002нирование с помощью информационных технологий – это один из \n",
    "важных этапов к успешному развитию предприятия. Активное внедре\u0002ние информационных систем в первую очередь затронуло промыш\u0002ленные предприятия, обеспеченные заказами на несколько лет. Эффек\u0002тивно управлять производственными мощностями, контролировать за\u0002траты на производство, минимизировать ошибки, организовать точный \n",
    "учет и обеспечить оперативное планирование – все это достигается \n",
    "с помощью внедренных автоматизированных информационных сис\u0002тем. Однако стандартные информационные системы даже при дора\u0002ботке в крупных компаниях не захватывают все аспекты оперативно\u0002аналитического учета на предприятии [14].\n",
    "Необходимы системы, способные оперативно решать узкие зада\u0002чи: интегрирование операций бизнес-процесса с планированием, сбор, \n",
    "обработка и корректировка больших объемов неоднородных данных, \n",
    "их анализ и прогноз. Данный подход повышает эффективность произ\u0002водства предприятия посредством усовершенствования функциониро\u0002вания автоматизированных информационных систем. Для полного по\u0002нимания и раскрытия проблем в формировании информационно\u0002аналитической системы финансового учета рассмотрим пример реали\u0002зации процесса с помощью информационной автоматизированной сис\u0002темы 1С: «Предприятие» блок управления и контроля финансового планирования и бюджетирования на примере промышленного пред\u0002приятия. Для описания процесса используем цикл Деминга, согласно \n",
    "которому управление должно циклически проходить по следующим \n",
    "этапам: P – планирование или же проектирование, D – контроль, C –\n",
    "корректировка или регулировка, A – исполнение [15]. \n",
    "При поступлении заказа на предприятие и на основании приказа \n",
    "предприятия начинает зарождаться проект контракта (рис. 3). Планово\u0002экономическим отделом составляется плановая калькуляция для опре\u0002деления себестоимости продукции, что позволяет финансовому отделу \n",
    "проделать работу по формированию бюджета движения денежных \n",
    "средств (БДДС) и определить финансовую устойчивость предприятия, \n",
    "т.е. сможет ли предприятие исполнить данный контракт посредством \n",
    "собственных средств или же с привлечением кредитных. Следующим \n",
    "этапом является составление планового бюджета на год по каждому \n",
    "структурному подразделению в рамках заказов. Бюджет на год состав\u0002ляется структурным подразделением с разнесением по статьям суммы \n",
    "расходов, обязательной частью является определение дополнительной \n",
    "аналитики (на предприятии в основном это номер серии машины), до\u0002полнительная аналитика определяется отделом финансового планиро\u0002вания на основании приказа руководителя [16]. Предполагается, что \n",
    "данная ИАС при установленном лимите годового бюджета, утвер\u0002жденном финансовым сектором управляющей компанией, является \n",
    "входящим продуктом для управления этапами процесса, запустит ите\u0002рационный цикл взаимодействия объектов бюджетирования. На этапе \n",
    "планирования, опираясь на имеющийся бюджет движения денежных \n",
    "средств, определяются плановые значения элементов бюджета, прово\u0002дится аналитика задач процесса. На следующем этапе исполнения, на \n",
    "основе подтверждающих документов, таких как товарно-транспортная \n",
    "накладная (ТТН), твердофиксированная цена (ТФЦ), выполняется учет \n",
    "фактических затрат постатейно, выявляются ошибки и недочеты дан\u0002ной операции и определяются пути решения установленных задач. На \n",
    "следующем этапе выполняется контроль, соответствует ли плану \n",
    "и бюджету выполненные задачи на базе ежемесячных планируемых \n",
    "платежей. Если же контроль выявляет проблемные зоны, запускается \n",
    "этап корректировки, где проводятся редактирование данных и анализ \n",
    "для дальнейшего принятия решения. Все этапы повторяются столько, \n",
    "сколько необходимо для достижения решения поставленных задач.\n",
    "Функционирование данной ИАС основано на методическом \n",
    "инструментарии по формированию и корректировке бюджета и на ана\u0002литических формах данных бюджета, а также базы данных с выходом \n",
    "отчетов и куба данных [17].\n",
    "На сегодняшний день существующие ИС не полностью автома\u0002тизируют блок финансового контроля. Реализация процесса по финан\u0002совому контролю содержит в себе огромнейшую аналитическую рабо\u0002ту сотрудника с выполнением трудоемких операций в самой системе. \n",
    "Часто на мониторинг, подготовку отчетов, заполнение различных таб\u0002лиц уходит 2/3 рабочего времени сотрудников. Устаревшие методика \n",
    "и схема данного бизнес-процесса влекут за собой рутинную работу, \n",
    "занимающую большое количество времени сотрудников, которое мож\u0002но использовать на решение более важных вопросов [18].\n",
    "'''\n",
    "make_answer(query)"
   ]
  },
  {
   "cell_type": "code",
   "execution_count": 8,
   "id": "afb6204a-a7ce-426a-8a0c-c5934c4d92d7",
   "metadata": {},
   "outputs": [],
   "source": [
    "# другой человек прочитал статью и после чего мой пересказ и пересказ ЛЛМ. Мой пересказ был оценен на 7, а пересказ ЛЛМ на 2."
   ]
  },
  {
   "cell_type": "code",
   "execution_count": null,
   "id": "73e79338-f47e-41fc-8e3b-a6981006390c",
   "metadata": {},
   "outputs": [],
   "source": []
  }
 ],
 "metadata": {
  "kernelspec": {
   "display_name": "Python 3 (ipykernel)",
   "language": "python",
   "name": "python3"
  },
  "language_info": {
   "codemirror_mode": {
    "name": "ipython",
    "version": 3
   },
   "file_extension": ".py",
   "mimetype": "text/x-python",
   "name": "python",
   "nbconvert_exporter": "python",
   "pygments_lexer": "ipython3",
   "version": "3.11.5"
  }
 },
 "nbformat": 4,
 "nbformat_minor": 5
}
