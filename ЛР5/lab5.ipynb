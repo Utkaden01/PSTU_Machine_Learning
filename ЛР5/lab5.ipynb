{
 "cells": [
  {
   "cell_type": "code",
   "execution_count": 1,
   "id": "428b70da-e21a-4168-956e-463ec5d1ecb0",
   "metadata": {},
   "outputs": [],
   "source": [
    "import pyaudio\n",
    "import numpy as np\n",
    "import whisper\n",
    "import webbrowser\n",
    "\n",
    "model = whisper.load_model(\"base\")"
   ]
  },
  {
   "cell_type": "code",
   "execution_count": 2,
   "id": "506e494b-36c1-4d36-bc70-4c0366217b98",
   "metadata": {},
   "outputs": [],
   "source": [
    "def recognize_speech():\n",
    "    record_duration = 5\n",
    "    print(\"Говорите\")\n",
    "    p = pyaudio.PyAudio()\n",
    "    stream = p.open(format=pyaudio.paInt16, channels=1, rate=44100, input=True, frames_per_buffer=44100)\n",
    "    frames = []\n",
    "\n",
    "    for _ in range(int(44100/1024 * record_duration)):\n",
    "        data = stream.read(1024)\n",
    "        frames.append(np.frombuffer(data, dtype=np.int16))\n",
    "\n",
    "    stream.stop_stream()\n",
    "    stream.close()\n",
    "    p.terminate()\n",
    "\n",
    "    audio = np.concatenate(frames)\n",
    "\n",
    "    audio = whisper.pad_or_trim(audio)\n",
    "    audio = audio.astype(np.float32)\n",
    "    mel = whisper.log_mel_spectrogram(audio).to(model.device)\n",
    "\n",
    "    \n",
    "    _, probs = model.detect_language(mel)\n",
    "    print(f\"Detected language: {max(probs, key=probs.get)}\")\n",
    "    options = whisper.DecodingOptions()\n",
    "    command = whisper.decode(model, mel, options)\n",
    "\n",
    "    print(command.text)\n",
    "    return command.text"
   ]
  },
  {
   "cell_type": "code",
   "execution_count": 3,
   "id": "09fe9adb-b27b-4a82-a303-a68d6b99f174",
   "metadata": {},
   "outputs": [
    {
     "name": "stdout",
     "output_type": "stream",
     "text": [
      "Говорите...\n",
      "Detected language: en\n",
      "I\n"
     ]
    }
   ],
   "source": [
    "command = recognize_speech().lower()"
   ]
  },
  {
   "cell_type": "code",
   "execution_count": 4,
   "id": "275dbf94-041e-4f2e-922c-d1bfe448fa73",
   "metadata": {},
   "outputs": [
    {
     "name": "stdout",
     "output_type": "stream",
     "text": [
      "Команда не распознана.\n"
     ]
    }
   ],
   "source": [
    "if \"Yandex\" in command:\n",
    "    search_query = command.replace(\"поиск в яндексе\", \"\").strip()\n",
    "    webbrowser.open(f\"https://yandex.ru/search/?text={search_query}\")\n",
    "elif \"Вконтакте\" in command:\n",
    "    webbrowser.open(\"https://vk.com/\")\n",
    "elif \"Youtube\" in command:\n",
    "    search_query = command.replace(\"найти видео в youtube\", \"\").strip()\n",
    "    webbrowser.open(f\"https://www.youtube.com/results?search_query={search_query}\")\n",
    "else:\n",
    "    print(\"Команда не распознана.\")"
   ]
  },
  {
   "cell_type": "code",
   "execution_count": null,
   "id": "b12c9300-7a2d-42e2-a24c-865190147257",
   "metadata": {},
   "outputs": [],
   "source": []
  }
 ],
 "metadata": {
  "kernelspec": {
   "display_name": "Python 3 (ipykernel)",
   "language": "python",
   "name": "python3"
  },
  "language_info": {
   "codemirror_mode": {
    "name": "ipython",
    "version": 3
   },
   "file_extension": ".py",
   "mimetype": "text/x-python",
   "name": "python",
   "nbconvert_exporter": "python",
   "pygments_lexer": "ipython3",
   "version": "3.11.5"
  }
 },
 "nbformat": 4,
 "nbformat_minor": 5
}
